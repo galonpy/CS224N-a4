{
  "nbformat": 4,
  "nbformat_minor": 0,
  "metadata": {
    "colab": {
      "provenance": [],
      "collapsed_sections": [
        "p0PIlCHaKgLs"
      ],
      "toc_visible": true,
      "include_colab_link": true
    },
    "kernelspec": {
      "name": "python3",
      "display_name": "Python 3"
    },
    "language_info": {
      "name": "python"
    }
  },
  "cells": [
    {
      "cell_type": "markdown",
      "metadata": {
        "id": "view-in-github",
        "colab_type": "text"
      },
      "source": [
        "<a href=\"https://colab.research.google.com/github/galonpy/CS224N-a4/blob/main/movie_recommendations_cleaning.ipynb\" target=\"_parent\"><img src=\"https://colab.research.google.com/assets/colab-badge.svg\" alt=\"Open In Colab\"/></a>"
      ]
    },
    {
      "cell_type": "markdown",
      "source": [
        "# Loading the Data"
      ],
      "metadata": {
        "id": "Hae9SsE6CbFI"
      }
    },
    {
      "cell_type": "code",
      "source": [
        "PATH = '/content/drive/MyDrive/SIADS-591-data'"
      ],
      "metadata": {
        "id": "f5eVSHGdCOLl"
      },
      "execution_count": 3,
      "outputs": []
    },
    {
      "cell_type": "code",
      "source": [
        "from google.colab import drive\n",
        "drive.mount('/content/drive')"
      ],
      "metadata": {
        "colab": {
          "base_uri": "https://localhost:8080/"
        },
        "id": "e04el1TTCGUe",
        "outputId": "a341811a-cc43-4e3e-d8f3-c55f92f1d84b"
      },
      "execution_count": 4,
      "outputs": [
        {
          "output_type": "stream",
          "name": "stdout",
          "text": [
            "Mounted at /content/drive\n"
          ]
        }
      ]
    },
    {
      "cell_type": "code",
      "execution_count": 5,
      "metadata": {
        "colab": {
          "base_uri": "https://localhost:8080/"
        },
        "id": "4lK2cRXAB856",
        "outputId": "d9ad1422-da48-4e9d-d3bd-2d752ea3696d"
      },
      "outputs": [
        {
          "output_type": "stream",
          "name": "stderr",
          "text": [
            "[nltk_data] Downloading package wordnet to /root/nltk_data...\n"
          ]
        }
      ],
      "source": [
        "import numpy as np\n",
        "import pandas as pd\n",
        "\n",
        "import re\n",
        "import string\n",
        "import nltk\n",
        "nltk.download('wordnet')\n",
        "from nltk.stem import PorterStemmer\n"
      ]
    },
    {
      "cell_type": "code",
      "source": [
        "def prep_string(text):\n",
        "    \"\"\"remove punctuation, whitespace, and make lowercase\"\"\"\n",
        "\n",
        "    # remove whitespace and apply lowercasing\n",
        "    text_lstrip = str(text).lower().strip()\n",
        "\n",
        "    # replace puncutation with empty string\n",
        "    text = re.sub(\"[%s]\" % re.escape(string.punctuation), \"\", text_lstrip)\n",
        "    return text"
      ],
      "metadata": {
        "id": "xJxIwit3PXD-"
      },
      "execution_count": 6,
      "outputs": []
    },
    {
      "cell_type": "code",
      "source": [
        "def stem_words(text):\n",
        "    stemmer = PorterStemmer()\n",
        "    return \" \".join([stemmer.stem(word) for word in text.split()])"
      ],
      "metadata": {
        "id": "zywyHtOoPXq9"
      },
      "execution_count": 7,
      "outputs": []
    },
    {
      "cell_type": "markdown",
      "source": [
        "# Data Ingestion"
      ],
      "metadata": {
        "id": "qJNbxcM4PZ8m"
      }
    },
    {
      "cell_type": "code",
      "source": [
        "# --- movie lens data ingestion ---\n",
        "\n",
        "# read movie lens csv files into dataframes\n",
        "ml_movies = pd.read_csv(f'{PATH}/ml-25m/movies.csv')\n",
        "ml_ratings = pd.read_csv(f'{PATH}/ml-25m/ratings.csv')\n",
        "ml_tags = pd.read_csv(f'{PATH}/ml-25m/tags.csv')\n",
        "# ml_links = pd.read_csv(f'{PATH}/ml-25m/links.csv') # TODO: at this point this data is not useful\n",
        "\n",
        "# TODO: consider if we want to use these\n",
        "# ml_gtags = pd.read_csv(f'{PATH}/ml-25m/genome-tags.csv')\n",
        "# ml_gscores = pd.read_csv(f'{PATH}/ml-25m/genome-scores.csv')"
      ],
      "metadata": {
        "id": "3xYsuS0NPcxp"
      },
      "execution_count": 8,
      "outputs": []
    },
    {
      "cell_type": "code",
      "source": [
        "# --- imdb data ingestion ---\n",
        "\n",
        "# run once to create the imdb.csv file\n",
        "#imdb_dfs = [pd.read_json(f\"./data/part-0{i}.json\") for i in range(1, 7)]\n",
        "# imdb_df = pd.concat(imdb_dfs)\n",
        "# imdb_df.to_csv(\"./data/imdb.csv\", index=False)\n",
        "\n",
        "# read imdb csv file into dataframe\n",
        "# csv created from commented out code above \n",
        "#imdb_reviews = pd.read_csv(\"./data/imdb.csv\")\n",
        "\n",
        "#gabriel alon # TODO: remove for the final copy, but use for quick itterations\n",
        "imdb_reviews = pd.read_json(f'{PATH}/imdb/part-01.json')"
      ],
      "metadata": {
        "id": "Z_GclyNcPfCq"
      },
      "execution_count": 9,
      "outputs": []
    },
    {
      "cell_type": "markdown",
      "source": [
        "# Data Preprocessing\n",
        "\n"
      ],
      "metadata": {
        "id": "-ZmxPrWDP_fA"
      }
    },
    {
      "cell_type": "markdown",
      "source": [
        "## imdb data preprocesing"
      ],
      "metadata": {
        "id": "kRMGRykAKoQ4"
      }
    },
    {
      "cell_type": "code",
      "source": [
        "# seperate the movie title and year from the movie column, create two seperate columns for them\n",
        "imdb_reviews[\"title\"] = imdb_reviews[\"movie\"].apply(lambda x: x.split(\"(\")[0].strip().lower())\n",
        "imdb_reviews[\"year\"] = imdb_reviews[\"movie\"].apply(\n",
        "    lambda x: x.split(\"(\")[-1].split(\")\")[0].strip().replace(\"–\", \"\")\n",
        ")"
      ],
      "metadata": {
        "id": "RqWWDcsvQBhq"
      },
      "execution_count": 10,
      "outputs": []
    },
    {
      "cell_type": "code",
      "source": [
        "# refactor imdb reviews dataset to the movie level for easy joining with movie lens\n",
        "imdb_movies = (\n",
        "    imdb_reviews.groupby([\"title\", \"year\"])\n",
        "    .agg(\n",
        "        {\n",
        "            \"rating\": lambda x: list(x),\n",
        "            \"review_detail\": lambda x: list(x),\n",
        "            \"review_summary\": lambda x: list(x),\n",
        "            \"helpful\": lambda x: list(x),\n",
        "        }\n",
        "    )\n",
        "    .reset_index()\n",
        "    .rename(\n",
        "        columns={\n",
        "            \"title\": \"title\",\n",
        "            \"year\": \"year\",\n",
        "            \"rating\": \"imdb_ratings\",\n",
        "            \"review_detail\": \"imdb_review_detail\",\n",
        "            \"review_summary\": \"imdb_review_summary\",\n",
        "            \"helpful\": \"imdb_helpful\",\n",
        "        }\n",
        "    )\n",
        ")\n"
      ],
      "metadata": {
        "id": "lN-81OtsRNlV"
      },
      "execution_count": 11,
      "outputs": []
    },
    {
      "cell_type": "code",
      "source": [
        "imdb_movies.head(2)"
      ],
      "metadata": {
        "id": "1RuBQgvfQDYE",
        "colab": {
          "base_uri": "https://localhost:8080/",
          "height": 0
        },
        "outputId": "a981470c-435d-4b89-8061-4e6711c1c39b"
      },
      "execution_count": 12,
      "outputs": [
        {
          "output_type": "execute_result",
          "data": {
            "text/plain": [
              "  title  year imdb_ratings                                 imdb_review_detail  \\\n",
              "0        1991        [nan]  [While not without it's flaws, this short is s...   \n",
              "1        2004        [8.0]  [While I have seen some applicable commentary ...   \n",
              "\n",
              "                                 imdb_review_summary imdb_helpful  \n",
              "0  [just trying to recapture a little of the glor...     [[2, 3]]  \n",
              "1              [The reviewers seem a bit homophobic]     [[0, 1]]  "
            ],
            "text/html": [
              "\n",
              "  <div id=\"df-3acefcf2-d10b-4d8b-a745-a8d626d1b2e3\">\n",
              "    <div class=\"colab-df-container\">\n",
              "      <div>\n",
              "<style scoped>\n",
              "    .dataframe tbody tr th:only-of-type {\n",
              "        vertical-align: middle;\n",
              "    }\n",
              "\n",
              "    .dataframe tbody tr th {\n",
              "        vertical-align: top;\n",
              "    }\n",
              "\n",
              "    .dataframe thead th {\n",
              "        text-align: right;\n",
              "    }\n",
              "</style>\n",
              "<table border=\"1\" class=\"dataframe\">\n",
              "  <thead>\n",
              "    <tr style=\"text-align: right;\">\n",
              "      <th></th>\n",
              "      <th>title</th>\n",
              "      <th>year</th>\n",
              "      <th>imdb_ratings</th>\n",
              "      <th>imdb_review_detail</th>\n",
              "      <th>imdb_review_summary</th>\n",
              "      <th>imdb_helpful</th>\n",
              "    </tr>\n",
              "  </thead>\n",
              "  <tbody>\n",
              "    <tr>\n",
              "      <th>0</th>\n",
              "      <td></td>\n",
              "      <td>1991</td>\n",
              "      <td>[nan]</td>\n",
              "      <td>[While not without it's flaws, this short is s...</td>\n",
              "      <td>[just trying to recapture a little of the glor...</td>\n",
              "      <td>[[2, 3]]</td>\n",
              "    </tr>\n",
              "    <tr>\n",
              "      <th>1</th>\n",
              "      <td></td>\n",
              "      <td>2004</td>\n",
              "      <td>[8.0]</td>\n",
              "      <td>[While I have seen some applicable commentary ...</td>\n",
              "      <td>[The reviewers seem a bit homophobic]</td>\n",
              "      <td>[[0, 1]]</td>\n",
              "    </tr>\n",
              "  </tbody>\n",
              "</table>\n",
              "</div>\n",
              "      <button class=\"colab-df-convert\" onclick=\"convertToInteractive('df-3acefcf2-d10b-4d8b-a745-a8d626d1b2e3')\"\n",
              "              title=\"Convert this dataframe to an interactive table.\"\n",
              "              style=\"display:none;\">\n",
              "        \n",
              "  <svg xmlns=\"http://www.w3.org/2000/svg\" height=\"24px\"viewBox=\"0 0 24 24\"\n",
              "       width=\"24px\">\n",
              "    <path d=\"M0 0h24v24H0V0z\" fill=\"none\"/>\n",
              "    <path d=\"M18.56 5.44l.94 2.06.94-2.06 2.06-.94-2.06-.94-.94-2.06-.94 2.06-2.06.94zm-11 1L8.5 8.5l.94-2.06 2.06-.94-2.06-.94L8.5 2.5l-.94 2.06-2.06.94zm10 10l.94 2.06.94-2.06 2.06-.94-2.06-.94-.94-2.06-.94 2.06-2.06.94z\"/><path d=\"M17.41 7.96l-1.37-1.37c-.4-.4-.92-.59-1.43-.59-.52 0-1.04.2-1.43.59L10.3 9.45l-7.72 7.72c-.78.78-.78 2.05 0 2.83L4 21.41c.39.39.9.59 1.41.59.51 0 1.02-.2 1.41-.59l7.78-7.78 2.81-2.81c.8-.78.8-2.07 0-2.86zM5.41 20L4 18.59l7.72-7.72 1.47 1.35L5.41 20z\"/>\n",
              "  </svg>\n",
              "      </button>\n",
              "      \n",
              "  <style>\n",
              "    .colab-df-container {\n",
              "      display:flex;\n",
              "      flex-wrap:wrap;\n",
              "      gap: 12px;\n",
              "    }\n",
              "\n",
              "    .colab-df-convert {\n",
              "      background-color: #E8F0FE;\n",
              "      border: none;\n",
              "      border-radius: 50%;\n",
              "      cursor: pointer;\n",
              "      display: none;\n",
              "      fill: #1967D2;\n",
              "      height: 32px;\n",
              "      padding: 0 0 0 0;\n",
              "      width: 32px;\n",
              "    }\n",
              "\n",
              "    .colab-df-convert:hover {\n",
              "      background-color: #E2EBFA;\n",
              "      box-shadow: 0px 1px 2px rgba(60, 64, 67, 0.3), 0px 1px 3px 1px rgba(60, 64, 67, 0.15);\n",
              "      fill: #174EA6;\n",
              "    }\n",
              "\n",
              "    [theme=dark] .colab-df-convert {\n",
              "      background-color: #3B4455;\n",
              "      fill: #D2E3FC;\n",
              "    }\n",
              "\n",
              "    [theme=dark] .colab-df-convert:hover {\n",
              "      background-color: #434B5C;\n",
              "      box-shadow: 0px 1px 3px 1px rgba(0, 0, 0, 0.15);\n",
              "      filter: drop-shadow(0px 1px 2px rgba(0, 0, 0, 0.3));\n",
              "      fill: #FFFFFF;\n",
              "    }\n",
              "  </style>\n",
              "\n",
              "      <script>\n",
              "        const buttonEl =\n",
              "          document.querySelector('#df-3acefcf2-d10b-4d8b-a745-a8d626d1b2e3 button.colab-df-convert');\n",
              "        buttonEl.style.display =\n",
              "          google.colab.kernel.accessAllowed ? 'block' : 'none';\n",
              "\n",
              "        async function convertToInteractive(key) {\n",
              "          const element = document.querySelector('#df-3acefcf2-d10b-4d8b-a745-a8d626d1b2e3');\n",
              "          const dataTable =\n",
              "            await google.colab.kernel.invokeFunction('convertToInteractive',\n",
              "                                                     [key], {});\n",
              "          if (!dataTable) return;\n",
              "\n",
              "          const docLinkHtml = 'Like what you see? Visit the ' +\n",
              "            '<a target=\"_blank\" href=https://colab.research.google.com/notebooks/data_table.ipynb>data table notebook</a>'\n",
              "            + ' to learn more about interactive tables.';\n",
              "          element.innerHTML = '';\n",
              "          dataTable['output_type'] = 'display_data';\n",
              "          await google.colab.output.renderOutput(dataTable, element);\n",
              "          const docLink = document.createElement('div');\n",
              "          docLink.innerHTML = docLinkHtml;\n",
              "          element.appendChild(docLink);\n",
              "        }\n",
              "      </script>\n",
              "    </div>\n",
              "  </div>\n",
              "  "
            ]
          },
          "metadata": {},
          "execution_count": 12
        }
      ]
    },
    {
      "cell_type": "code",
      "source": [
        "imdb_movies['imdb_review_detail'].iloc[0]"
      ],
      "metadata": {
        "colab": {
          "base_uri": "https://localhost:8080/"
        },
        "id": "NKZ97GbXls0-",
        "outputId": "0df37640-9eba-4209-9847-d15f86288be2"
      },
      "execution_count": 13,
      "outputs": [
        {
          "output_type": "execute_result",
          "data": {
            "text/plain": [
              "[\"While not without it's flaws, this short is still one of the most entertaining Looney Tunes shorts in recent years. I've resigned myself to the fact that the golden age of Looney Tunes is long in the past and it'll never get as good as it was back then again in the future. But I still enjoyed this cartoon that plays out like a blooper reel taking place on Bugs Bunny's fifty first and a half birthday special. Even if the Looney Tune's gang acted a tad off-kilter. This cartoon can be found as an extra on disk 1 of the 'Looney Tunes Golden Collection' and has optional commentary.My Grade: C+\"]"
            ]
          },
          "metadata": {},
          "execution_count": 13
        }
      ]
    },
    {
      "cell_type": "markdown",
      "source": [
        "## movie lens data preprocessing"
      ],
      "metadata": {
        "id": "MtYbiOMCQKQe"
      }
    },
    {
      "cell_type": "code",
      "source": [
        "# seperate the movie title and year from the movie column, create two seperate columns for them\n",
        "# note: don't run this multiple times during same session # TODO: avoid hard coding here\n",
        "ml_movies['year'] = ml_movies['title'].apply(lambda x: x[-5:-1])\n",
        "ml_movies['title'] = ml_movies['title'].apply(lambda x: x[:-6].strip().lower())"
      ],
      "metadata": {
        "id": "1Jybu_L3QNPD"
      },
      "execution_count": 14,
      "outputs": []
    },
    {
      "cell_type": "code",
      "source": [
        "# split genres into a list for one-hot encoding\n",
        "ml_movies['genres'] = ml_movies['genres'].str.split('|')"
      ],
      "metadata": {
        "id": "9_0chPeaQRbt"
      },
      "execution_count": 15,
      "outputs": []
    },
    {
      "cell_type": "code",
      "source": [
        "# # apply one-hot-encoding transformation to list of genres # todo: cut this code if no longer applying one-hot-encoding\n",
        "# genre_dummies = pd.get_dummies(ml_movies[\"genres\"].apply(pd.Series))\n",
        "# ml_movies = pd.concat([ml_movies, genre_dummies], axis=1)\n",
        "# # ml_movies = ml_movies.drop(['genres'], axis=1) #todo: drop after sanity check"
      ],
      "metadata": {
        "id": "5NP65gy6QS9G"
      },
      "execution_count": 16,
      "outputs": []
    },
    {
      "cell_type": "code",
      "source": [
        "# add links to imdb to ml_movies \n",
        "# ml_movies = ml_movies.merge(ml_links, on='movieId', how='left') # TODO: this doesn't add value without an id field from idmb dataset"
      ],
      "metadata": {
        "id": "cAcmXggGQUvW"
      },
      "execution_count": 17,
      "outputs": []
    },
    {
      "cell_type": "code",
      "source": [
        "# cleanup movie tags and gather all tags per movie for consistency\n",
        "\n",
        "# remove punctuation and whitespace from tags\n",
        "ml_tags[\"tag\"] = ml_tags[\"tag\"].apply(lambda x: prep_string(x))\n",
        "\n",
        "# replace tags with their stemmed versions for comparison\n",
        "ml_tags[\"tag\"]= ml_tags[\"tag\"].apply(lambda x: stem_words(x))\n",
        "\n",
        "# group tags by movie and create a list of tags for each movie to be appended to ml_movies\n",
        "ml_tags_by_movie = ml_tags.groupby('movieId')['tag'].apply(set).apply(list)\n",
        "ml_tags_by_movie = pd.DataFrame(ml_tags_by_movie).reset_index()\n",
        "# ml_tags.groupby('movieId')['tag'].apply(list) # would contain duplicates\n",
        "# #Todo: ^consider if we want to add weight to the count of each tag. If many people tag a movie the same weight, that may rank higher than a movie with fewer tags but more unique tags\n",
        "\n",
        "ml_movies = ml_movies.merge(ml_tags_by_movie, on='movieId', how='left')\n",
        "# ml_tags_by_movie.mege()"
      ],
      "metadata": {
        "id": "QoKWs9agQWK1"
      },
      "execution_count": 18,
      "outputs": []
    },
    {
      "cell_type": "code",
      "source": [
        "# add aggregated movie lens rating information to DataFrame\n",
        "ratings_agg = (\n",
        "    (\n",
        "        ml_ratings.groupby(\"movieId\")\n",
        "        .agg({\"rating\": [\"mean\", \"count\", \"median\", \"std\"]})\n",
        "        .reset_index()\n",
        "    )\n",
        "    .droplevel(level=0, axis=1)\n",
        "    .rename(\n",
        "        columns={\n",
        "            \"\": \"movieId\",\n",
        "            \"mean\": \"rating_mean\",\n",
        "            \"count\": \"rating_count\",\n",
        "            \"median\": \"rating_median\",\n",
        "            \"std\": \"rating_std\",\n",
        "        }\n",
        "    )\n",
        ")\n",
        "\n",
        "ml_movies = ml_movies.merge(ratings_agg, on=\"movieId\", how=\"left\")"
      ],
      "metadata": {
        "id": "TXYqgXhcQX-1"
      },
      "execution_count": 19,
      "outputs": []
    },
    {
      "cell_type": "code",
      "source": [
        "ml_movies.head(1)"
      ],
      "metadata": {
        "id": "2vrLlMHpfTu7",
        "colab": {
          "base_uri": "https://localhost:8080/",
          "height": 0
        },
        "outputId": "d46dff69-15aa-4a9b-c6ad-ab8663df6834"
      },
      "execution_count": 20,
      "outputs": [
        {
          "output_type": "execute_result",
          "data": {
            "text/plain": [
              "   movieId      title                                             genres  \\\n",
              "0        1  toy story  [Adventure, Animation, Children, Comedy, Fantasy]   \n",
              "\n",
              "   year                                                tag  rating_mean  \\\n",
              "0  1995  [favorit, cartoon, boy, light, tumey to see ag...     3.893708   \n",
              "\n",
              "   rating_count  rating_median  rating_std  \n",
              "0       57309.0            4.0    0.921552  "
            ],
            "text/html": [
              "\n",
              "  <div id=\"df-087add69-a769-42df-b274-210d1c1f9b4a\">\n",
              "    <div class=\"colab-df-container\">\n",
              "      <div>\n",
              "<style scoped>\n",
              "    .dataframe tbody tr th:only-of-type {\n",
              "        vertical-align: middle;\n",
              "    }\n",
              "\n",
              "    .dataframe tbody tr th {\n",
              "        vertical-align: top;\n",
              "    }\n",
              "\n",
              "    .dataframe thead th {\n",
              "        text-align: right;\n",
              "    }\n",
              "</style>\n",
              "<table border=\"1\" class=\"dataframe\">\n",
              "  <thead>\n",
              "    <tr style=\"text-align: right;\">\n",
              "      <th></th>\n",
              "      <th>movieId</th>\n",
              "      <th>title</th>\n",
              "      <th>genres</th>\n",
              "      <th>year</th>\n",
              "      <th>tag</th>\n",
              "      <th>rating_mean</th>\n",
              "      <th>rating_count</th>\n",
              "      <th>rating_median</th>\n",
              "      <th>rating_std</th>\n",
              "    </tr>\n",
              "  </thead>\n",
              "  <tbody>\n",
              "    <tr>\n",
              "      <th>0</th>\n",
              "      <td>1</td>\n",
              "      <td>toy story</td>\n",
              "      <td>[Adventure, Animation, Children, Comedy, Fantasy]</td>\n",
              "      <td>1995</td>\n",
              "      <td>[favorit, cartoon, boy, light, tumey to see ag...</td>\n",
              "      <td>3.893708</td>\n",
              "      <td>57309.0</td>\n",
              "      <td>4.0</td>\n",
              "      <td>0.921552</td>\n",
              "    </tr>\n",
              "  </tbody>\n",
              "</table>\n",
              "</div>\n",
              "      <button class=\"colab-df-convert\" onclick=\"convertToInteractive('df-087add69-a769-42df-b274-210d1c1f9b4a')\"\n",
              "              title=\"Convert this dataframe to an interactive table.\"\n",
              "              style=\"display:none;\">\n",
              "        \n",
              "  <svg xmlns=\"http://www.w3.org/2000/svg\" height=\"24px\"viewBox=\"0 0 24 24\"\n",
              "       width=\"24px\">\n",
              "    <path d=\"M0 0h24v24H0V0z\" fill=\"none\"/>\n",
              "    <path d=\"M18.56 5.44l.94 2.06.94-2.06 2.06-.94-2.06-.94-.94-2.06-.94 2.06-2.06.94zm-11 1L8.5 8.5l.94-2.06 2.06-.94-2.06-.94L8.5 2.5l-.94 2.06-2.06.94zm10 10l.94 2.06.94-2.06 2.06-.94-2.06-.94-.94-2.06-.94 2.06-2.06.94z\"/><path d=\"M17.41 7.96l-1.37-1.37c-.4-.4-.92-.59-1.43-.59-.52 0-1.04.2-1.43.59L10.3 9.45l-7.72 7.72c-.78.78-.78 2.05 0 2.83L4 21.41c.39.39.9.59 1.41.59.51 0 1.02-.2 1.41-.59l7.78-7.78 2.81-2.81c.8-.78.8-2.07 0-2.86zM5.41 20L4 18.59l7.72-7.72 1.47 1.35L5.41 20z\"/>\n",
              "  </svg>\n",
              "      </button>\n",
              "      \n",
              "  <style>\n",
              "    .colab-df-container {\n",
              "      display:flex;\n",
              "      flex-wrap:wrap;\n",
              "      gap: 12px;\n",
              "    }\n",
              "\n",
              "    .colab-df-convert {\n",
              "      background-color: #E8F0FE;\n",
              "      border: none;\n",
              "      border-radius: 50%;\n",
              "      cursor: pointer;\n",
              "      display: none;\n",
              "      fill: #1967D2;\n",
              "      height: 32px;\n",
              "      padding: 0 0 0 0;\n",
              "      width: 32px;\n",
              "    }\n",
              "\n",
              "    .colab-df-convert:hover {\n",
              "      background-color: #E2EBFA;\n",
              "      box-shadow: 0px 1px 2px rgba(60, 64, 67, 0.3), 0px 1px 3px 1px rgba(60, 64, 67, 0.15);\n",
              "      fill: #174EA6;\n",
              "    }\n",
              "\n",
              "    [theme=dark] .colab-df-convert {\n",
              "      background-color: #3B4455;\n",
              "      fill: #D2E3FC;\n",
              "    }\n",
              "\n",
              "    [theme=dark] .colab-df-convert:hover {\n",
              "      background-color: #434B5C;\n",
              "      box-shadow: 0px 1px 3px 1px rgba(0, 0, 0, 0.15);\n",
              "      filter: drop-shadow(0px 1px 2px rgba(0, 0, 0, 0.3));\n",
              "      fill: #FFFFFF;\n",
              "    }\n",
              "  </style>\n",
              "\n",
              "      <script>\n",
              "        const buttonEl =\n",
              "          document.querySelector('#df-087add69-a769-42df-b274-210d1c1f9b4a button.colab-df-convert');\n",
              "        buttonEl.style.display =\n",
              "          google.colab.kernel.accessAllowed ? 'block' : 'none';\n",
              "\n",
              "        async function convertToInteractive(key) {\n",
              "          const element = document.querySelector('#df-087add69-a769-42df-b274-210d1c1f9b4a');\n",
              "          const dataTable =\n",
              "            await google.colab.kernel.invokeFunction('convertToInteractive',\n",
              "                                                     [key], {});\n",
              "          if (!dataTable) return;\n",
              "\n",
              "          const docLinkHtml = 'Like what you see? Visit the ' +\n",
              "            '<a target=\"_blank\" href=https://colab.research.google.com/notebooks/data_table.ipynb>data table notebook</a>'\n",
              "            + ' to learn more about interactive tables.';\n",
              "          element.innerHTML = '';\n",
              "          dataTable['output_type'] = 'display_data';\n",
              "          await google.colab.output.renderOutput(dataTable, element);\n",
              "          const docLink = document.createElement('div');\n",
              "          docLink.innerHTML = docLinkHtml;\n",
              "          element.appendChild(docLink);\n",
              "        }\n",
              "      </script>\n",
              "    </div>\n",
              "  </div>\n",
              "  "
            ]
          },
          "metadata": {},
          "execution_count": 20
        }
      ]
    },
    {
      "cell_type": "code",
      "source": [
        "ml_movies['tag'].iloc[:8]"
      ],
      "metadata": {
        "id": "WhA1lQ0Urb7W",
        "colab": {
          "base_uri": "https://localhost:8080/"
        },
        "outputId": "9f5c9ac8-a4e0-4af2-f7f3-d5f6ea202b3b"
      },
      "execution_count": 21,
      "outputs": [
        {
          "output_type": "execute_result",
          "data": {
            "text/plain": [
              "0    [favorit, cartoon, boy, light, tumey to see ag...\n",
              "1    [monkey, adapt of book, new home, giant insect...\n",
              "2    [sequel, grun run, jack lemmon, comedinha de v...\n",
              "3    [clv, chick flick, reveng, singl mother, inter...\n",
              "4    [sequel, comedi, contracept, midlif crisi, tou...\n",
              "5    [val kilmer, murder, philosophi, cant rememb, ...\n",
              "6    [ugli duckl, remadeassabrina1995, romanc, brea...\n",
              "7    [base on a book, disney, librari system, adapt...\n",
              "Name: tag, dtype: object"
            ]
          },
          "metadata": {},
          "execution_count": 21
        }
      ]
    },
    {
      "cell_type": "markdown",
      "source": [
        "# Joining movie lens and imdb"
      ],
      "metadata": {
        "id": "p0PIlCHaKgLs"
      }
    },
    {
      "cell_type": "code",
      "source": [
        "ml_movies.merge(imdb_reviews, on=[\"title\", \"year\"], how=\"inner\").to_csv(\n",
        "    \"ml_movies_imdb_joined.csv\", index=False\n",
        ") # todo: how to save to drive"
      ],
      "metadata": {
        "id": "Hrh8Dl-PKwjW"
      },
      "execution_count": 22,
      "outputs": []
    },
    {
      "cell_type": "markdown",
      "source": [
        "# Exploring the Merged Dataset"
      ],
      "metadata": {
        "id": "P1AFww-t-5B6"
      }
    },
    {
      "cell_type": "code",
      "source": [
        "import altair as alt\n",
        "alt.themes.enable('fivethirtyeight')\n",
        "\n",
        "# This defaults to `rating_mean` which is the movielens column, we should instead be calling `rating` from IMDB\n",
        "def scatter_plot_movies_rating(df=ml_movies, rating_col='rating_mean', rating_counts_col='rating_count', top=50):\n",
        "  mdf = df.copy()\n",
        "  mdf['genres'] = mdf['genres'].apply(lambda x: x[0] if isinstance(x, list) else '')\n",
        "  mdf = mdf.groupby(['title', 'year', 'movieId', 'genres']).agg({ rating_counts_col: 'sum', rating_col: 'mean' }).sort_values([rating_counts_col, rating_col], ascending=False).head(top)\n",
        "\n",
        "  return alt.Chart(mdf.reset_index()).mark_circle(size=60).encode(\n",
        "        x=alt.X(f'{rating_col}:Q', title='Rating'),\n",
        "        y=alt.Y('title:N', title='Title'),\n",
        "        tooltip=['title:N', 'year:O' ,f'{rating_col}:Q'],\n",
        "        color='genres:N'\n",
        "    ).configure_axis(grid=False).configure_view(\n",
        "        width=256,\n",
        "        height=1024\n",
        "    ).properties(\n",
        "        title={\n",
        "          \"text\": f\"Top {top} Movies\", \n",
        "          \"subtitle\": [\"Sorted by the total number and average ratings.\", \"Highlighting the marks will show more information.\"]\n",
        "        }\n",
        "    )\n",
        "\n",
        "scatter_plot_movies_rating()"
      ],
      "metadata": {
        "id": "m7LnNAM4BPeF"
      },
      "execution_count": null,
      "outputs": []
    },
    {
      "cell_type": "code",
      "source": [
        "###\n",
        "# \n",
        "# Filter function - filters a dataframe based off the parameters.\n",
        "#\n",
        "# df - The dataframe to perform the filter functionality\n",
        "# filter - The filter string\n",
        "###\n",
        "def filter_func(df, filter):\n",
        "  df = df.copy()\n",
        "\n",
        "  # Conversion - because lists are unhashable, I can'd do a concat/drop duplicates to return the filtered out items\n",
        "  # Add this back if we want to pd.concat(new_df, old_df).drop_duplicates()\n",
        "  #df['genres'] = df['genres'].apply(tuple)\n",
        "  df['tag'] = df['tag'].apply(lambda d: ' '.join(d) if isinstance(d, list) else d)\n",
        "\n",
        "  filter = stem_words(filter)\n",
        "\n",
        "  df['tag'] = df['tag'].astype(str)\n",
        "\n",
        "  new_df = df[~df['tag'].str.contains(str(filter))]\n",
        "\n",
        "  return new_df\n",
        "\n",
        "def query_func(df, query):\n",
        "  df = df.copy()\n",
        "\n",
        "  query = stem_words(query)\n",
        "  df['tag'] = df['tag'].apply(lambda d: ' '.join(d) if isinstance(d, list) else '')\n",
        "\n",
        "  new_df = df[df['title'].str.contains(str(query)) | df['tag'].str.contains(str(query))]\n",
        "      \n",
        "  return new_df\n",
        "\n",
        "pd.options.display.max_colwidth = 50\n",
        "  \n",
        "display(query_func(ml_movies,'cult')['tag'])"
      ],
      "metadata": {
        "id": "vy2rOKWIrxZU"
      },
      "execution_count": null,
      "outputs": []
    },
    {
      "cell_type": "code",
      "source": [
        "df = filter_func(ml_movies, 'abuse')"
      ],
      "metadata": {
        "id": "N3YUMn1GMCue"
      },
      "execution_count": null,
      "outputs": []
    },
    {
      "cell_type": "code",
      "source": [
        "exp3 = filter_func(query_func(ml_movies, 'cult'), 'dumb down')\n",
        "exp3.head(3)"
      ],
      "metadata": {
        "id": "_E57dVNuJnwe"
      },
      "execution_count": null,
      "outputs": []
    },
    {
      "cell_type": "markdown",
      "source": [
        "# Posters"
      ],
      "metadata": {
        "id": "jPYfQQQQutF_"
      }
    },
    {
      "cell_type": "code",
      "source": [
        "ml_movies_clean = ml_movies.copy()\n",
        "print(len(ml_movies_clean))"
      ],
      "metadata": {
        "id": "ryFoFriBvLnM"
      },
      "execution_count": null,
      "outputs": []
    },
    {
      "cell_type": "code",
      "source": [
        "def test_apply(x):\n",
        "    try:\n",
        "        return int(x)\n",
        "    except ValueError:\n",
        "        return None\n",
        "ml_movies_clean['year'] = ml_movies_clean['year'].apply(test_apply).dropna()"
      ],
      "metadata": {
        "id": "ghc6l43avS8N"
      },
      "execution_count": null,
      "outputs": []
    },
    {
      "cell_type": "code",
      "source": [
        "images = pd.read_csv('/content/drive/MyDrive/SIADS-591-data/duplicate_free_41K.csv')\n",
        "images = images[['poster','title','year']]\n",
        "print(len(images))\n",
        "images['title'] = images['title'].apply(lambda x: prep_string(x))\n",
        "poster_and_prior =pd.merge(ml_movies_clean,images, on=['title','year'])\n",
        "print(len(poster_and_prior))\n"
      ],
      "metadata": {
        "id": "K3UMsFBJuwBi"
      },
      "execution_count": null,
      "outputs": []
    },
    {
      "cell_type": "code",
      "source": [
        "from PIL import Image\n",
        "from io import BytesIO\n",
        "import os\n",
        "import urllib.request\n",
        "import json\n",
        "import altair as alt\n",
        "import pandas as pd\n",
        "import base64, io, IPython\n",
        "import requests"
      ],
      "metadata": {
        "id": "HP80lo97yIqO"
      },
      "execution_count": null,
      "outputs": []
    },
    {
      "cell_type": "code",
      "source": [
        "def prepare_images(poster_sample,n):\n",
        "  #poster_sample is the links to the posters of the movie titles we want to visualize\n",
        "  show_img = []\n",
        "  san_img = []\n",
        "  count = 0\n",
        "  png_names = []\n",
        "  for i in poster_sample:\n",
        "    name = f\"/content/drive/MyDrive/SIADS-591-data/local-filename{str(count)}.jpg\"\n",
        "    ex = urllib.request.urlretrieve(i, name)#\"/content/drive/MyDrive/SIADS-591-data/local-filename{i}.jpg\")\n",
        "    im = Image.open(name)\n",
        "    png_name = f\"/content/drive/MyDrive/SIADS-591-data/local-filename{str(count)}.png\"\n",
        "    png_names.append(png_name)\n",
        "    im.save(png_name)\n",
        "    count +=1\n",
        "  imgCode = []\n",
        "  images  = png_names[:n]\n",
        "  for imgPath in images:\n",
        "      image = Image.open(imgPath) #PilImage\n",
        "      output = io.BytesIO()    \n",
        "      image.save(output, format='JPEG')\n",
        "      encoded_string = \"data:image/jpeg;base64,\"+base64.b64encode(output.getvalue()).decode()\n",
        "      imgCode.append(encoded_string)\n",
        "  print(len(imgCode))\n",
        "  return imgCode"
      ],
      "metadata": {
        "id": "f0mO0K7-x-Ln"
      },
      "execution_count": null,
      "outputs": []
    },
    {
      "cell_type": "code",
      "source": [
        "def poster_visual_altair(poster_sample, n,row_level):\n",
        "  #pass in n number of images to show in that row\n",
        "  imgCode = prepare_images(poster_sample,n)\n",
        "  x = [i for i in range(1,50000,6000)]\n",
        "  x = x[:n]\n",
        "  y = [row_level]*n\n",
        "\n",
        "  source = pd.DataFrame({\"x\": x, \"y\": y, \"img\": imgCode})\n",
        "  vis = alt.Chart(source).mark_image(size=5,\n",
        "      width=250,\n",
        "      height=250\n",
        "  ).encode(\n",
        "      x=alt.X('x', axis=None), #axis=alt.Axis(labels=False,grid=False,title='')),\n",
        "      y=alt.Y('y',axis=None), #axis=alt.Axis(labels=False,grid=False, title='')),\n",
        "      url='img')\n",
        "  return vis"
      ],
      "metadata": {
        "id": "JRkQtpQ3zWoA"
      },
      "execution_count": null,
      "outputs": []
    },
    {
      "cell_type": "code",
      "source": [
        "poster_and_prior.head(1)"
      ],
      "metadata": {
        "id": "fCTz3TLtDig_"
      },
      "execution_count": null,
      "outputs": []
    },
    {
      "cell_type": "code",
      "source": [
        "#given lists of titles and years we can make a dataframe to select the poster links\n",
        "selected_titles = [\"1408\",\"2012\",\"50/50\"]\n",
        "selected_years = [2007,2009,2011]\n",
        "data_tuples = list(zip(selected_titles,selected_years))\n",
        "selected_df = pd.DataFrame(data_tuples, columns=['title','year'])\n",
        "selected_final = pd.merge(poster_and_prior,selected_df,on=['title','year'])\n",
        "print(len(selected_final))\n",
        "selected_final = selected_final.drop_duplicates(\n",
        "  subset = ['title', 'year'],\n",
        "  keep = 'last').reset_index(drop = True)\n",
        "selected_posters = selected_final['poster']"
      ],
      "metadata": {
        "id": "8w7pJAZdI0D9"
      },
      "execution_count": null,
      "outputs": []
    },
    {
      "cell_type": "markdown",
      "source": [
        "# Input Widget\n",
        "\n",
        "This widget input field filters a pandas dataframe of movies based off the movie title. \n",
        "\n",
        "The entered string is compared against the 'title' column of the dataframe to display only those movies whose title contains the string. \n",
        "\n",
        "Ensure that the input is a valid string, otherwise the filtering may not work as expected. "
      ],
      "metadata": {
        "id": "ItMOSQTsJtxC"
      }
    },
    {
      "cell_type": "code",
      "source": [
        "import ipywidgets as widgets\n",
        "from IPython.display import clear_output\n",
        "\n",
        "query_input =widgets.Text(\n",
        "    value='',\n",
        "    placeholder='Search for a movie by title',\n",
        "    description='Search',\n",
        "    disabled=False   \n",
        ")\n",
        "\n",
        "filter_input = widgets.Text(\n",
        "    value='',\n",
        "    placeholder='Filter out movies using keywords',\n",
        "    description='Filter',\n",
        "    disabled=False   \n",
        ")\n",
        "\n",
        "\n",
        "def query_filter(button):\n",
        "  filter = filter_input.value\n",
        "  query = query_input.value\n",
        "  df = filter_func(query_func(ml_movies, query), filter)\n",
        "  clear_output()\n",
        "  display(df)\n",
        "\n",
        "submit_button = widgets.Button(description='submit')\n",
        "\n",
        "submit_button.on_click(query_filter)\n",
        "\n",
        "widgets.VBox([query_input, filter_input, submit_button])"
      ],
      "metadata": {
        "id": "ALrcATRGJtSM"
      },
      "execution_count": null,
      "outputs": []
    },
    {
      "cell_type": "markdown",
      "source": [
        "# Combining Input Widget with Poster"
      ],
      "metadata": {
        "id": "Yv1y5GWQSfHr"
      }
    },
    {
      "cell_type": "code",
      "source": [
        "ml_movies[ml_movies['title'] == 'last holiday']"
      ],
      "metadata": {
        "id": "hpTmGZSwONKF"
      },
      "execution_count": null,
      "outputs": []
    },
    {
      "cell_type": "code",
      "source": [
        "%%capture\n",
        "!pip install altair_viewer"
      ],
      "metadata": {
        "id": "M3ztypn4QgaI"
      },
      "execution_count": null,
      "outputs": []
    },
    {
      "cell_type": "code",
      "source": [
        "def query_filter(button):\n",
        "  if not filter_input.value:\n",
        "    filter = 'None Marked'\n",
        "  else:\n",
        "    filter = filter_input.value\n",
        "  query = query_input.value\n",
        "  df = filter_func(query_func(ml_movies, query), filter)\n",
        "  #gabriel alon\n",
        "  title = df['title'].tolist()[:3]\n",
        "  year = df['year'].tolist()[:3]\n",
        "  year = [float(int(i)) for i in year]\n",
        "  data_tuples = list(zip(title,year))\n",
        "  selected_df = pd.DataFrame(data_tuples, columns=['title','year'])\n",
        "  selected_final = pd.merge(poster_and_prior,selected_df,on=['title','year'])\n",
        "  selected_posters = selected_final['poster']\n",
        "  chart = poster_visual_altair(selected_posters, len(selected_posters),1)\n",
        "  clear_output() #this removes the search and filter buttons though\n",
        "  display(chart)\n",
        "submit_button = widgets.Button(description='submit')\n",
        "\n",
        "submit_button.on_click(query_filter)\n",
        "\n",
        "widgets.VBox([query_input, filter_input, submit_button])\n",
        "\n",
        "#ie search: last holiday\n",
        "\n",
        "#single word in title doesn't work\n",
        "#doesnt seem that tags work or are searched\n",
        "#no warning that image isnt available but movie is"
      ],
      "metadata": {
        "id": "RgWhsCkXSiLc"
      },
      "execution_count": null,
      "outputs": []
    }
  ]
}